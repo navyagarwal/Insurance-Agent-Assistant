{
 "cells": [
  {
   "cell_type": "code",
   "execution_count": 16,
   "id": "e0a9e71e",
   "metadata": {},
   "outputs": [],
   "source": [
    "import pandas as pd\n",
    "import numpy as np\n",
    "import matplotlib.pyplot as plt"
   ]
  },
  {
   "cell_type": "code",
   "execution_count": 2,
   "id": "7dd15498",
   "metadata": {},
   "outputs": [
    {
     "data": {
      "text/html": [
       "<div>\n",
       "<style scoped>\n",
       "    .dataframe tbody tr th:only-of-type {\n",
       "        vertical-align: middle;\n",
       "    }\n",
       "\n",
       "    .dataframe tbody tr th {\n",
       "        vertical-align: top;\n",
       "    }\n",
       "\n",
       "    .dataframe thead th {\n",
       "        text-align: right;\n",
       "    }\n",
       "</style>\n",
       "<table border=\"1\" class=\"dataframe\">\n",
       "  <thead>\n",
       "    <tr style=\"text-align: right;\">\n",
       "      <th></th>\n",
       "      <th>LeadId</th>\n",
       "      <th>Age</th>\n",
       "      <th>Gender</th>\n",
       "      <th>Income</th>\n",
       "      <th>Residence</th>\n",
       "      <th>Diabetes</th>\n",
       "      <th>HeartAilment</th>\n",
       "      <th>Hypertension</th>\n",
       "      <th>OtherIllness</th>\n",
       "      <th>SurgicalProcedure</th>\n",
       "      <th>COVID19</th>\n",
       "      <th>PolicyName</th>\n",
       "    </tr>\n",
       "  </thead>\n",
       "  <tbody>\n",
       "    <tr>\n",
       "      <th>0</th>\n",
       "      <td>176</td>\n",
       "      <td>43</td>\n",
       "      <td>Male</td>\n",
       "      <td>300000</td>\n",
       "      <td>Metro</td>\n",
       "      <td>0</td>\n",
       "      <td>0</td>\n",
       "      <td>1</td>\n",
       "      <td>0</td>\n",
       "      <td>0</td>\n",
       "      <td>0</td>\n",
       "      <td>Policy_1</td>\n",
       "    </tr>\n",
       "    <tr>\n",
       "      <th>1</th>\n",
       "      <td>58</td>\n",
       "      <td>32</td>\n",
       "      <td>Female</td>\n",
       "      <td>300000</td>\n",
       "      <td>Non-Metro</td>\n",
       "      <td>0</td>\n",
       "      <td>0</td>\n",
       "      <td>1</td>\n",
       "      <td>0</td>\n",
       "      <td>0</td>\n",
       "      <td>0</td>\n",
       "      <td>Policy_11</td>\n",
       "    </tr>\n",
       "    <tr>\n",
       "      <th>2</th>\n",
       "      <td>17</td>\n",
       "      <td>29</td>\n",
       "      <td>Male</td>\n",
       "      <td>1100000</td>\n",
       "      <td>Metro</td>\n",
       "      <td>0</td>\n",
       "      <td>0</td>\n",
       "      <td>0</td>\n",
       "      <td>1</td>\n",
       "      <td>1</td>\n",
       "      <td>1</td>\n",
       "      <td>Policy_3</td>\n",
       "    </tr>\n",
       "    <tr>\n",
       "      <th>3</th>\n",
       "      <td>215</td>\n",
       "      <td>50</td>\n",
       "      <td>Male</td>\n",
       "      <td>300000</td>\n",
       "      <td>Metro</td>\n",
       "      <td>0</td>\n",
       "      <td>0</td>\n",
       "      <td>1</td>\n",
       "      <td>0</td>\n",
       "      <td>0</td>\n",
       "      <td>1</td>\n",
       "      <td>Policy_1</td>\n",
       "    </tr>\n",
       "    <tr>\n",
       "      <th>4</th>\n",
       "      <td>34</td>\n",
       "      <td>25</td>\n",
       "      <td>Male</td>\n",
       "      <td>1400000</td>\n",
       "      <td>Non-Metro</td>\n",
       "      <td>0</td>\n",
       "      <td>0</td>\n",
       "      <td>0</td>\n",
       "      <td>0</td>\n",
       "      <td>1</td>\n",
       "      <td>0</td>\n",
       "      <td>Policy_4</td>\n",
       "    </tr>\n",
       "    <tr>\n",
       "      <th>...</th>\n",
       "      <td>...</td>\n",
       "      <td>...</td>\n",
       "      <td>...</td>\n",
       "      <td>...</td>\n",
       "      <td>...</td>\n",
       "      <td>...</td>\n",
       "      <td>...</td>\n",
       "      <td>...</td>\n",
       "      <td>...</td>\n",
       "      <td>...</td>\n",
       "      <td>...</td>\n",
       "      <td>...</td>\n",
       "    </tr>\n",
       "    <tr>\n",
       "      <th>245</th>\n",
       "      <td>240</td>\n",
       "      <td>57</td>\n",
       "      <td>Male</td>\n",
       "      <td>1100000</td>\n",
       "      <td>Metro</td>\n",
       "      <td>0</td>\n",
       "      <td>0</td>\n",
       "      <td>1</td>\n",
       "      <td>0</td>\n",
       "      <td>0</td>\n",
       "      <td>0</td>\n",
       "      <td>Policy_4</td>\n",
       "    </tr>\n",
       "    <tr>\n",
       "      <th>246</th>\n",
       "      <td>226</td>\n",
       "      <td>51</td>\n",
       "      <td>Male</td>\n",
       "      <td>1300000</td>\n",
       "      <td>Metro</td>\n",
       "      <td>0</td>\n",
       "      <td>1</td>\n",
       "      <td>1</td>\n",
       "      <td>0</td>\n",
       "      <td>1</td>\n",
       "      <td>0</td>\n",
       "      <td>Policy_5</td>\n",
       "    </tr>\n",
       "    <tr>\n",
       "      <th>247</th>\n",
       "      <td>248</td>\n",
       "      <td>60</td>\n",
       "      <td>Female</td>\n",
       "      <td>1300000</td>\n",
       "      <td>Non-Metro</td>\n",
       "      <td>0</td>\n",
       "      <td>0</td>\n",
       "      <td>1</td>\n",
       "      <td>0</td>\n",
       "      <td>0</td>\n",
       "      <td>1</td>\n",
       "      <td>Policy_7</td>\n",
       "    </tr>\n",
       "    <tr>\n",
       "      <th>248</th>\n",
       "      <td>229</td>\n",
       "      <td>52</td>\n",
       "      <td>Female</td>\n",
       "      <td>2100000</td>\n",
       "      <td>Non-Metro</td>\n",
       "      <td>0</td>\n",
       "      <td>0</td>\n",
       "      <td>0</td>\n",
       "      <td>0</td>\n",
       "      <td>0</td>\n",
       "      <td>1</td>\n",
       "      <td>Policy_4</td>\n",
       "    </tr>\n",
       "    <tr>\n",
       "      <th>249</th>\n",
       "      <td>250</td>\n",
       "      <td>60</td>\n",
       "      <td>Male</td>\n",
       "      <td>3400000</td>\n",
       "      <td>Metro</td>\n",
       "      <td>0</td>\n",
       "      <td>0</td>\n",
       "      <td>0</td>\n",
       "      <td>0</td>\n",
       "      <td>1</td>\n",
       "      <td>1</td>\n",
       "      <td>Policy_6</td>\n",
       "    </tr>\n",
       "  </tbody>\n",
       "</table>\n",
       "<p>250 rows × 12 columns</p>\n",
       "</div>"
      ],
      "text/plain": [
       "     LeadId  Age  Gender   Income  Residence  Diabetes  HeartAilment  \\\n",
       "0       176   43    Male   300000      Metro         0             0   \n",
       "1        58   32  Female   300000  Non-Metro         0             0   \n",
       "2        17   29    Male  1100000      Metro         0             0   \n",
       "3       215   50    Male   300000      Metro         0             0   \n",
       "4        34   25    Male  1400000  Non-Metro         0             0   \n",
       "..      ...  ...     ...      ...        ...       ...           ...   \n",
       "245     240   57    Male  1100000      Metro         0             0   \n",
       "246     226   51    Male  1300000      Metro         0             1   \n",
       "247     248   60  Female  1300000  Non-Metro         0             0   \n",
       "248     229   52  Female  2100000  Non-Metro         0             0   \n",
       "249     250   60    Male  3400000      Metro         0             0   \n",
       "\n",
       "     Hypertension  OtherIllness  SurgicalProcedure  COVID19 PolicyName  \n",
       "0               1             0                  0        0   Policy_1  \n",
       "1               1             0                  0        0  Policy_11  \n",
       "2               0             1                  1        1   Policy_3  \n",
       "3               1             0                  0        1   Policy_1  \n",
       "4               0             0                  1        0   Policy_4  \n",
       "..            ...           ...                ...      ...        ...  \n",
       "245             1             0                  0        0   Policy_4  \n",
       "246             1             0                  1        0   Policy_5  \n",
       "247             1             0                  0        1   Policy_7  \n",
       "248             0             0                  0        1   Policy_4  \n",
       "249             0             0                  1        1   Policy_6  \n",
       "\n",
       "[250 rows x 12 columns]"
      ]
     },
     "execution_count": 2,
     "metadata": {},
     "output_type": "execute_result"
    }
   ],
   "source": [
    "dataset = pd.read_csv(\"/home/kashish/Downloads/Transaction.csv\")\n",
    "dataset"
   ]
  },
  {
   "cell_type": "code",
   "execution_count": 4,
   "id": "23f5d619",
   "metadata": {},
   "outputs": [],
   "source": [
    "policy = dataset.iloc[:, -1]"
   ]
  },
  {
   "cell_type": "code",
   "execution_count": 5,
   "id": "aa03f5e4",
   "metadata": {},
   "outputs": [],
   "source": [
    "dataset.drop(columns = ['PolicyName'], inplace = True)"
   ]
  },
  {
   "cell_type": "code",
   "execution_count": 6,
   "id": "2de61e67",
   "metadata": {},
   "outputs": [
    {
     "data": {
      "text/html": [
       "<div>\n",
       "<style scoped>\n",
       "    .dataframe tbody tr th:only-of-type {\n",
       "        vertical-align: middle;\n",
       "    }\n",
       "\n",
       "    .dataframe tbody tr th {\n",
       "        vertical-align: top;\n",
       "    }\n",
       "\n",
       "    .dataframe thead th {\n",
       "        text-align: right;\n",
       "    }\n",
       "</style>\n",
       "<table border=\"1\" class=\"dataframe\">\n",
       "  <thead>\n",
       "    <tr style=\"text-align: right;\">\n",
       "      <th></th>\n",
       "      <th>LeadId</th>\n",
       "      <th>Age</th>\n",
       "      <th>Gender</th>\n",
       "      <th>Income</th>\n",
       "      <th>Residence</th>\n",
       "      <th>Diabetes</th>\n",
       "      <th>HeartAilment</th>\n",
       "      <th>Hypertension</th>\n",
       "      <th>OtherIllness</th>\n",
       "      <th>SurgicalProcedure</th>\n",
       "      <th>COVID19</th>\n",
       "    </tr>\n",
       "  </thead>\n",
       "  <tbody>\n",
       "    <tr>\n",
       "      <th>0</th>\n",
       "      <td>176</td>\n",
       "      <td>43</td>\n",
       "      <td>Male</td>\n",
       "      <td>300000</td>\n",
       "      <td>Metro</td>\n",
       "      <td>0</td>\n",
       "      <td>0</td>\n",
       "      <td>1</td>\n",
       "      <td>0</td>\n",
       "      <td>0</td>\n",
       "      <td>0</td>\n",
       "    </tr>\n",
       "    <tr>\n",
       "      <th>1</th>\n",
       "      <td>58</td>\n",
       "      <td>32</td>\n",
       "      <td>Female</td>\n",
       "      <td>300000</td>\n",
       "      <td>Non-Metro</td>\n",
       "      <td>0</td>\n",
       "      <td>0</td>\n",
       "      <td>1</td>\n",
       "      <td>0</td>\n",
       "      <td>0</td>\n",
       "      <td>0</td>\n",
       "    </tr>\n",
       "    <tr>\n",
       "      <th>2</th>\n",
       "      <td>17</td>\n",
       "      <td>29</td>\n",
       "      <td>Male</td>\n",
       "      <td>1100000</td>\n",
       "      <td>Metro</td>\n",
       "      <td>0</td>\n",
       "      <td>0</td>\n",
       "      <td>0</td>\n",
       "      <td>1</td>\n",
       "      <td>1</td>\n",
       "      <td>1</td>\n",
       "    </tr>\n",
       "    <tr>\n",
       "      <th>3</th>\n",
       "      <td>215</td>\n",
       "      <td>50</td>\n",
       "      <td>Male</td>\n",
       "      <td>300000</td>\n",
       "      <td>Metro</td>\n",
       "      <td>0</td>\n",
       "      <td>0</td>\n",
       "      <td>1</td>\n",
       "      <td>0</td>\n",
       "      <td>0</td>\n",
       "      <td>1</td>\n",
       "    </tr>\n",
       "    <tr>\n",
       "      <th>4</th>\n",
       "      <td>34</td>\n",
       "      <td>25</td>\n",
       "      <td>Male</td>\n",
       "      <td>1400000</td>\n",
       "      <td>Non-Metro</td>\n",
       "      <td>0</td>\n",
       "      <td>0</td>\n",
       "      <td>0</td>\n",
       "      <td>0</td>\n",
       "      <td>1</td>\n",
       "      <td>0</td>\n",
       "    </tr>\n",
       "    <tr>\n",
       "      <th>...</th>\n",
       "      <td>...</td>\n",
       "      <td>...</td>\n",
       "      <td>...</td>\n",
       "      <td>...</td>\n",
       "      <td>...</td>\n",
       "      <td>...</td>\n",
       "      <td>...</td>\n",
       "      <td>...</td>\n",
       "      <td>...</td>\n",
       "      <td>...</td>\n",
       "      <td>...</td>\n",
       "    </tr>\n",
       "    <tr>\n",
       "      <th>245</th>\n",
       "      <td>240</td>\n",
       "      <td>57</td>\n",
       "      <td>Male</td>\n",
       "      <td>1100000</td>\n",
       "      <td>Metro</td>\n",
       "      <td>0</td>\n",
       "      <td>0</td>\n",
       "      <td>1</td>\n",
       "      <td>0</td>\n",
       "      <td>0</td>\n",
       "      <td>0</td>\n",
       "    </tr>\n",
       "    <tr>\n",
       "      <th>246</th>\n",
       "      <td>226</td>\n",
       "      <td>51</td>\n",
       "      <td>Male</td>\n",
       "      <td>1300000</td>\n",
       "      <td>Metro</td>\n",
       "      <td>0</td>\n",
       "      <td>1</td>\n",
       "      <td>1</td>\n",
       "      <td>0</td>\n",
       "      <td>1</td>\n",
       "      <td>0</td>\n",
       "    </tr>\n",
       "    <tr>\n",
       "      <th>247</th>\n",
       "      <td>248</td>\n",
       "      <td>60</td>\n",
       "      <td>Female</td>\n",
       "      <td>1300000</td>\n",
       "      <td>Non-Metro</td>\n",
       "      <td>0</td>\n",
       "      <td>0</td>\n",
       "      <td>1</td>\n",
       "      <td>0</td>\n",
       "      <td>0</td>\n",
       "      <td>1</td>\n",
       "    </tr>\n",
       "    <tr>\n",
       "      <th>248</th>\n",
       "      <td>229</td>\n",
       "      <td>52</td>\n",
       "      <td>Female</td>\n",
       "      <td>2100000</td>\n",
       "      <td>Non-Metro</td>\n",
       "      <td>0</td>\n",
       "      <td>0</td>\n",
       "      <td>0</td>\n",
       "      <td>0</td>\n",
       "      <td>0</td>\n",
       "      <td>1</td>\n",
       "    </tr>\n",
       "    <tr>\n",
       "      <th>249</th>\n",
       "      <td>250</td>\n",
       "      <td>60</td>\n",
       "      <td>Male</td>\n",
       "      <td>3400000</td>\n",
       "      <td>Metro</td>\n",
       "      <td>0</td>\n",
       "      <td>0</td>\n",
       "      <td>0</td>\n",
       "      <td>0</td>\n",
       "      <td>1</td>\n",
       "      <td>1</td>\n",
       "    </tr>\n",
       "  </tbody>\n",
       "</table>\n",
       "<p>250 rows × 11 columns</p>\n",
       "</div>"
      ],
      "text/plain": [
       "     LeadId  Age  Gender   Income  Residence  Diabetes  HeartAilment  \\\n",
       "0       176   43    Male   300000      Metro         0             0   \n",
       "1        58   32  Female   300000  Non-Metro         0             0   \n",
       "2        17   29    Male  1100000      Metro         0             0   \n",
       "3       215   50    Male   300000      Metro         0             0   \n",
       "4        34   25    Male  1400000  Non-Metro         0             0   \n",
       "..      ...  ...     ...      ...        ...       ...           ...   \n",
       "245     240   57    Male  1100000      Metro         0             0   \n",
       "246     226   51    Male  1300000      Metro         0             1   \n",
       "247     248   60  Female  1300000  Non-Metro         0             0   \n",
       "248     229   52  Female  2100000  Non-Metro         0             0   \n",
       "249     250   60    Male  3400000      Metro         0             0   \n",
       "\n",
       "     Hypertension  OtherIllness  SurgicalProcedure  COVID19  \n",
       "0               1             0                  0        0  \n",
       "1               1             0                  0        0  \n",
       "2               0             1                  1        1  \n",
       "3               1             0                  0        1  \n",
       "4               0             0                  1        0  \n",
       "..            ...           ...                ...      ...  \n",
       "245             1             0                  0        0  \n",
       "246             1             0                  1        0  \n",
       "247             1             0                  0        1  \n",
       "248             0             0                  0        1  \n",
       "249             0             0                  1        1  \n",
       "\n",
       "[250 rows x 11 columns]"
      ]
     },
     "execution_count": 6,
     "metadata": {},
     "output_type": "execute_result"
    }
   ],
   "source": [
    "dataset"
   ]
  },
  {
   "cell_type": "code",
   "execution_count": 8,
   "id": "ed76938c",
   "metadata": {},
   "outputs": [],
   "source": [
    "dataset['Gender'].replace(to_replace = ['Male', 'Female'], value = [0,1], inplace = True)"
   ]
  },
  {
   "cell_type": "code",
   "execution_count": 9,
   "id": "9560782e",
   "metadata": {},
   "outputs": [],
   "source": [
    "dataset['Residence'].replace(to_replace = ['Metro', 'Non-Metro'], value = [0,1], inplace = True)"
   ]
  },
  {
   "cell_type": "code",
   "execution_count": 12,
   "id": "07c5b157",
   "metadata": {},
   "outputs": [],
   "source": [
    "X = dataset.iloc[:, 1:].values"
   ]
  },
  {
   "cell_type": "code",
   "execution_count": 15,
   "id": "2d7b26bc",
   "metadata": {},
   "outputs": [],
   "source": [
    "from sklearn.cluster import KMeans\n",
    "wcss = []\n",
    "for i in range(1, 11):\n",
    "    kmeans = KMeans(n_clusters = i, init = 'k-means++', random_state = 42)\n",
    "    kmeans.fit(X)\n",
    "    wcss.append(kmeans.inertia_)"
   ]
  },
  {
   "cell_type": "code",
   "execution_count": 17,
   "id": "acd45f81",
   "metadata": {},
   "outputs": [
    {
     "data": {
      "image/png": "[encoded data removed]",
      "text/plain": [
       "<Figure size 432x288 with 1 Axes>"
      ]
     },
     "metadata": {
      "needs_background": "light"
     },
     "output_type": "display_data"
    }
   ],
   "source": [
    "plt.plot(range(1, 11), wcss)\n",
    "plt.show()"
   ]
  },
  {
   "cell_type": "code",
   "execution_count": 18,
   "id": "0733a1e2",
   "metadata": {},
   "outputs": [],
   "source": [
    "kmeans = KMeans(n_clusters = 3, init = 'k-means++', random_state = 42)\n",
    "y_means = kmeans.fit_predict(X)"
   ]
  },
  {
   "cell_type": "code",
   "execution_count": 19,
   "id": "fe67a681",
   "metadata": {},
   "outputs": [
    {
     "data": {
      "text/plain": [
       "array([0, 0, 0, 0, 0, 0, 0, 0, 2, 0, 0, 0, 2, 0, 0, 2, 0, 0, 2, 0, 0, 0,\n",
       "       0, 0, 0, 0, 0, 0, 0, 0, 2, 2, 0, 0, 2, 0, 0, 2, 0, 0, 0, 2, 0, 0,\n",
       "       0, 0, 0, 0, 2, 0, 0, 0, 0, 0, 0, 2, 2, 0, 0, 2, 0, 0, 1, 2, 0, 0,\n",
       "       0, 0, 0, 0, 2, 2, 0, 0, 2, 1, 0, 0, 0, 0, 0, 0, 0, 0, 0, 2, 0, 0,\n",
       "       0, 0, 0, 0, 0, 0, 2, 2, 0, 0, 2, 0, 0, 2, 2, 0, 0, 0, 0, 0, 0, 2,\n",
       "       2, 0, 0, 2, 1, 0, 0, 2, 0, 0, 2, 0, 0, 0, 2, 0, 0, 0, 2, 0, 0, 0,\n",
       "       0, 0, 0, 2, 0, 1, 2, 2, 0, 2, 2, 0, 0, 0, 0, 0, 2, 0, 0, 0, 2, 0,\n",
       "       0, 2, 0, 0, 1, 2, 0, 0, 0, 0, 0, 0, 2, 2, 0, 0, 2, 2, 0, 0, 2, 0,\n",
       "       0, 2, 0, 0, 0, 2, 0, 0, 0, 0, 0, 0, 2, 0, 0, 0, 2, 0, 0, 2, 2, 0,\n",
       "       0, 2, 0, 0, 0, 0, 0, 2, 0, 0, 0, 2, 0, 0, 2, 2, 0, 0, 2, 0, 0, 1,\n",
       "       2, 0, 0, 0, 0, 0, 0, 1, 2, 0, 0, 2, 1, 0, 0, 2, 0, 0, 1, 0, 0, 0,\n",
       "       2, 0, 0, 0, 0, 0, 2, 2], dtype=int32)"
      ]
     },
     "execution_count": 19,
     "metadata": {},
     "output_type": "execute_result"
    }
   ],
   "source": [
    "y_means"
   ]
  },
  {
   "cell_type": "code",
   "execution_count": 23,
   "id": "d1b6ba07",
   "metadata": {},
   "outputs": [],
   "source": [
    "customers = pd.Series(y_means, name = 'Customers')"
   ]
  },
  {
   "cell_type": "code",
   "execution_count": 24,
   "id": "aa1c55fe",
   "metadata": {},
   "outputs": [],
   "source": [
    "df = pd.concat([policy, customers], axis=1)"
   ]
  },
  {
   "cell_type": "code",
   "execution_count": 32,
   "id": "611c0914",
   "metadata": {},
   "outputs": [],
   "source": [
    "groups = df.groupby(by = ['Customers'])"
   ]
  },
  {
   "cell_type": "code",
   "execution_count": 34,
   "id": "f8ec70f1",
   "metadata": {},
   "outputs": [],
   "source": [
    "first = groups.get_group(0)\n",
    "second = groups.get_group(1)\n",
    "third = groups.get_group(2)"
   ]
  },
  {
   "cell_type": "code",
   "execution_count": 36,
   "id": "3e2ff371",
   "metadata": {},
   "outputs": [
    {
     "data": {
      "text/plain": [
       "(array([48.,  5., 37., 22., 25., 10., 14.,  9.,  2.,  6.]),\n",
       " array([ 0.,  1.,  2.,  3.,  4.,  5.,  6.,  7.,  8.,  9., 10.]),\n",
       " <BarContainer object of 10 artists>)"
      ]
     },
     "execution_count": 36,
     "metadata": {},
     "output_type": "execute_result"
    },
    {
     "data": {
      "image/png": "[encoded data removed]",
      "text/plain": [
       "<Figure size 1080x432 with 1 Axes>"
      ]
     },
     "metadata": {
      "needs_background": "light"
     },
     "output_type": "display_data"
    }
   ],
   "source": [
    "plt.figure(figsize = (15, 6))\n",
    "plt.hist(x = first['PolicyName'])"
   ]
  },
  {
   "cell_type": "code",
   "execution_count": 37,
   "id": "ce46b50a",
   "metadata": {},
   "outputs": [
    {
     "data": {
      "text/plain": [
       "(array([3., 0., 0., 1., 0., 0., 3., 0., 0., 2.]),\n",
       " array([0. , 0.3, 0.6, 0.9, 1.2, 1.5, 1.8, 2.1, 2.4, 2.7, 3. ]),\n",
       " <BarContainer object of 10 artists>)"
      ]
     },
     "execution_count": 37,
     "metadata": {},
     "output_type": "execute_result"
    },
    {
     "data": {
      "image/png": "[encoded data removed]",
      "text/plain": [
       "<Figure size 432x288 with 1 Axes>"
      ]
     },
     "metadata": {
      "needs_background": "light"
     },
     "output_type": "display_data"
    }
   ],
   "source": [
    "plt.hist(x = second['PolicyName'])"
   ]
  },
  {
   "cell_type": "code",
   "execution_count": 38,
   "id": "11415785",
   "metadata": {},
   "outputs": [
    {
     "data": {
      "text/plain": [
       "(array([ 8., 13.,  0., 11.,  0.,  2., 12.,  0.,  2., 15.]),\n",
       " array([0. , 0.6, 1.2, 1.8, 2.4, 3. , 3.6, 4.2, 4.8, 5.4, 6. ]),\n",
       " <BarContainer object of 10 artists>)"
      ]
     },
     "execution_count": 38,
     "metadata": {},
     "output_type": "execute_result"
    },
    {
     "data": {
      "image/png": "[encoded data removed]",
      "text/plain": [
       "<Figure size 432x288 with 1 Axes>"
      ]
     },
     "metadata": {
      "needs_background": "light"
     },
     "output_type": "display_data"
    }
   ],
   "source": [
    "plt.hist(x = third['PolicyName'])"
   ]
  },
  {
   "cell_type": "code",
   "execution_count": null,
   "id": "03ee3a68",
   "metadata": {},
   "outputs": [],
   "source": []
  }
 ],
 "metadata": {
  "kernelspec": {
   "display_name": "Python 3",
   "language": "python",
   "name": "python3"
  },
  "language_info": {
   "codemirror_mode": {
    "name": "ipython",
    "version": 3
   },
   "file_extension": ".py",
   "mimetype": "text/x-python",
   "name": "python",
   "nbconvert_exporter": "python",
   "pygments_lexer": "ipython3",
   "version": "3.8.8"
  }
 },
 "nbformat": 4,
 "nbformat_minor": 5
}
