{
  "nbformat": 4,
  "nbformat_minor": 0,
  "metadata": {
    "colab": {
      "provenance": []
    },
    "kernelspec": {
      "name": "python3",
      "display_name": "Python 3"
    },
    "language_info": {
      "name": "python"
    }
  },
  "cells": [
    {
      "cell_type": "code",
      "execution_count": 1,
      "metadata": {
        "id": "70ojRvPI5mRN"
      },
      "outputs": [],
      "source": [
        "import numpy as np\n",
        "import tensorflow as tf\n",
        "from tensorflow import keras\n",
        "import pandas as pd\n",
        "from matplotlib import pyplot as plt\n",
        "%matplotlib inline"
      ]
    },
    {
      "cell_type": "code",
      "source": [
        "df2=pd.read_csv('Transaction_Data.csv')"
      ],
      "metadata": {
        "id": "OeIEPay95pfd"
      },
      "execution_count": 3,
      "outputs": []
    },
    {
      "cell_type": "code",
      "source": [
        "df2.head"
      ],
      "metadata": {
        "colab": {
          "base_uri": "https://localhost:8080/"
        },
        "id": "mJfGMIvd5ph5",
        "outputId": "3da669f5-b085-47f9-c903-35ef33a18add"
      },
      "execution_count": 4,
      "outputs": [
        {
          "output_type": "execute_result",
          "data": {
            "text/plain": [
              "<bound method NDFrame.head of      LeadId  Age  Gender   Income  Residence  Diabetes  HeartAilment  \\\n",
              "0       176   43    Male   300000      Metro         0             0   \n",
              "1        58   32  Female   300000  Non-Metro         0             0   \n",
              "2        17   29    Male  1100000      Metro         0             0   \n",
              "3       215   50    Male   300000      Metro         0             0   \n",
              "4        34   25    Male  1400000  Non-Metro         0             0   \n",
              "..      ...  ...     ...      ...        ...       ...           ...   \n",
              "245     240   57    Male  1100000      Metro         0             0   \n",
              "246     226   51    Male  1300000      Metro         0             1   \n",
              "247     248   60  Female  1300000  Non-Metro         0             0   \n",
              "248     229   52  Female  2100000  Non-Metro         0             0   \n",
              "249     250   60    Male  3400000      Metro         0             0   \n",
              "\n",
              "     Hypertension  OtherIllness  SurgicalProcedure  COVID19 PolicyName  \n",
              "0               1             0                  0        0   Policy_1  \n",
              "1               1             0                  0        0  Policy_11  \n",
              "2               0             1                  1        1   Policy_3  \n",
              "3               1             0                  0        1   Policy_1  \n",
              "4               0             0                  1        0   Policy_4  \n",
              "..            ...           ...                ...      ...        ...  \n",
              "245             1             0                  0        0   Policy_4  \n",
              "246             1             0                  1        0   Policy_5  \n",
              "247             1             0                  0        1   Policy_7  \n",
              "248             0             0                  0        1   Policy_4  \n",
              "249             0             0                  1        1   Policy_6  \n",
              "\n",
              "[250 rows x 12 columns]>"
            ]
          },
          "metadata": {},
          "execution_count": 4
        }
      ]
    },
    {
      "cell_type": "code",
      "source": [
        "from sklearn import preprocessing\n",
        "label_encoder = preprocessing.LabelEncoder()\n",
        "df2['Gender']= label_encoder.fit_transform(df2['Gender'])\n",
        "df2['Residence']= label_encoder.fit_transform(df2['Residence'])"
      ],
      "metadata": {
        "id": "ZscUDcUS5pkC"
      },
      "execution_count": 5,
      "outputs": []
    },
    {
      "cell_type": "code",
      "source": [
        "df2['Income']= label_encoder.fit_transform(df2['Income'])"
      ],
      "metadata": {
        "id": "sDbjy-V-5prr"
      },
      "execution_count": 6,
      "outputs": []
    },
    {
      "cell_type": "code",
      "source": [
        "features = []\n",
        "for i in range(1, len(df2.columns) - 1):\n",
        "    features.append(df2.columns[i])\n",
        "features"
      ],
      "metadata": {
        "colab": {
          "base_uri": "https://localhost:8080/"
        },
        "id": "v2cWIe9f5puB",
        "outputId": "e6b76845-276b-42a9-88e6-e1e20483fafc"
      },
      "execution_count": 7,
      "outputs": [
        {
          "output_type": "execute_result",
          "data": {
            "text/plain": [
              "['Age',\n",
              " 'Gender',\n",
              " 'Income',\n",
              " 'Residence',\n",
              " 'Diabetes',\n",
              " 'HeartAilment',\n",
              " 'Hypertension',\n",
              " 'OtherIllness',\n",
              " 'SurgicalProcedure',\n",
              " 'COVID19']"
            ]
          },
          "metadata": {},
          "execution_count": 7
        }
      ]
    },
    {
      "cell_type": "code",
      "source": [
        "X = df2.loc[:, features]\n",
        "y = df2.loc[:, [\"PolicyName\"]]"
      ],
      "metadata": {
        "id": "SeGkYn2J5pwK"
      },
      "execution_count": 8,
      "outputs": []
    },
    {
      "cell_type": "code",
      "source": [
        "from sklearn.model_selection import train_test_split\n",
        "X_train, X_test, y_train, y_test = train_test_split(\n",
        "    X, y, test_size=0.2, random_state=0)"
      ],
      "metadata": {
        "id": "hHcMSzMVXItX"
      },
      "execution_count": 9,
      "outputs": []
    },
    {
      "cell_type": "code",
      "source": [
        "from sklearn.linear_model import LogisticRegression\n",
        "from sklearn.metrics import classification_report, confusion_matrix\n",
        "model = LogisticRegression(solver='liblinear', random_state=0)"
      ],
      "metadata": {
        "id": "_tv5XdWl5pyM"
      },
      "execution_count": 10,
      "outputs": []
    },
    {
      "cell_type": "code",
      "source": [
        "model = LogisticRegression(multi_class='multinomial',solver='newton-cg',C=10.0,random_state=0)\n",
        "model.fit(X_train, y_train)"
      ],
      "metadata": {
        "colab": {
          "base_uri": "https://localhost:8080/"
        },
        "id": "Y7Axz_MV5p4Y",
        "outputId": "fb13ae7c-84d7-4632-ec24-b269d185906f"
      },
      "execution_count": 19,
      "outputs": [
        {
          "output_type": "stream",
          "name": "stderr",
          "text": [
            "/usr/local/lib/python3.7/dist-packages/sklearn/utils/validation.py:993: DataConversionWarning: A column-vector y was passed when a 1d array was expected. Please change the shape of y to (n_samples, ), for example using ravel().\n",
            "  y = column_or_1d(y, warn=True)\n"
          ]
        },
        {
          "output_type": "execute_result",
          "data": {
            "text/plain": [
              "LogisticRegression(C=10.0, multi_class='multinomial', random_state=0,\n",
              "                   solver='newton-cg')"
            ]
          },
          "metadata": {},
          "execution_count": 19
        }
      ]
    },
    {
      "cell_type": "code",
      "source": [
        "model.score(X_test, y_test)"
      ],
      "metadata": {
        "colab": {
          "base_uri": "https://localhost:8080/"
        },
        "id": "R7dGTkkG64CH",
        "outputId": "e6d68016-10e7-425c-f99b-2f945497bf5a"
      },
      "execution_count": 20,
      "outputs": [
        {
          "output_type": "execute_result",
          "data": {
            "text/plain": [
              "0.52"
            ]
          },
          "metadata": {},
          "execution_count": 20
        }
      ]
    },
    {
      "cell_type": "code",
      "source": [
        "model.classes_"
      ],
      "metadata": {
        "colab": {
          "base_uri": "https://localhost:8080/"
        },
        "id": "M3-qpGZ964EY",
        "outputId": "a9224e20-76f9-487c-829a-55267c762000"
      },
      "execution_count": 75,
      "outputs": [
        {
          "output_type": "execute_result",
          "data": {
            "text/plain": [
              "array(['Policy_1', 'Policy_10', 'Policy_11', 'Policy_12', 'Policy_13',\n",
              "       'Policy_14', 'Policy_15', 'Policy_2', 'Policy_3', 'Policy_4',\n",
              "       'Policy_5', 'Policy_6', 'Policy_7', 'Policy_8', 'Policy_9'],\n",
              "      dtype=object)"
            ]
          },
          "metadata": {},
          "execution_count": 75
        }
      ]
    },
    {
      "cell_type": "code",
      "source": [
        "confusion_matrix(y, model.predict(X))"
      ],
      "metadata": {
        "colab": {
          "base_uri": "https://localhost:8080/"
        },
        "id": "ON2RPoEN64Gp",
        "outputId": "2ac6fcc2-62be-431e-97e3-ea2442687658"
      },
      "execution_count": 76,
      "outputs": [
        {
          "output_type": "execute_result",
          "data": {
            "text/plain": [
              "array([[40,  1,  0,  0,  0,  0,  0,  3,  4,  0,  0,  0,  0,  0,  0],\n",
              "       [ 0,  9,  1,  0,  0,  0,  0,  0,  0,  0,  0,  0,  0,  0,  0],\n",
              "       [ 0,  1,  4,  0,  0,  0,  0,  0,  0,  0,  0,  0,  0,  0,  0],\n",
              "       [ 0,  1,  0,  7,  1,  0,  0,  0,  0,  0,  0,  0,  0,  0,  0],\n",
              "       [ 0,  0,  0,  2,  2,  2,  0,  0,  0,  1,  0,  0,  0,  0,  0],\n",
              "       [ 0,  0,  0,  0,  1,  8,  0,  0,  0,  0,  0,  0,  0,  0,  0],\n",
              "       [ 0,  0,  0,  0,  0,  0,  4,  0,  0,  0,  0,  0,  0,  0,  0],\n",
              "       [ 7,  0,  0,  0,  0,  0,  0, 12,  5,  1,  0,  0,  0,  0,  0],\n",
              "       [ 3,  0,  0,  0,  0,  0,  0,  0, 29,  4,  1,  0,  0,  0,  0],\n",
              "       [ 0,  0,  0,  0,  0,  0,  0,  0,  4, 24,  6,  0,  1,  0,  0],\n",
              "       [ 0,  0,  0,  1,  1,  0,  0,  1,  0,  6, 16,  1,  0,  0,  0],\n",
              "       [ 0,  0,  0,  0,  0,  0,  0,  0,  0,  0,  2, 10,  3,  0,  0],\n",
              "       [ 0,  0,  0,  0,  0,  0,  0,  0,  0,  0,  1,  3, 10,  0,  0],\n",
              "       [ 0,  0,  0,  0,  0,  0,  0,  0,  0,  0,  0,  0,  0,  3,  0],\n",
              "       [ 0,  0,  0,  0,  0,  0,  0,  0,  0,  0,  0,  0,  0,  0,  3]])"
            ]
          },
          "metadata": {},
          "execution_count": 76
        }
      ]
    },
    {
      "cell_type": "code",
      "source": [],
      "metadata": {
        "id": "GokDZ2IY64IT"
      },
      "execution_count": null,
      "outputs": []
    },
    {
      "cell_type": "code",
      "source": [],
      "metadata": {
        "id": "LnSjjOlX64KD"
      },
      "execution_count": null,
      "outputs": []
    }
  ]
}