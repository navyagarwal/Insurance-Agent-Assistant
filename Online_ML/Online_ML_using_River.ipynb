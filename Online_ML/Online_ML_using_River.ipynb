{
 "cells": [
  {
   "cell_type": "code",
   "execution_count": 1,
   "id": "c18be0db",
   "metadata": {},
   "outputs": [],
   "source": [
    "import pandas as pd\n",
    "from river import neighbors "
   ]
  },
  {
   "cell_type": "code",
   "execution_count": 2,
   "id": "52eecfcc",
   "metadata": {},
   "outputs": [],
   "source": [
    "data = pd.read_excel(\"Data.xlsx\")"
   ]
  },
  {
   "cell_type": "code",
   "execution_count": 3,
   "id": "363fbf27",
   "metadata": {},
   "outputs": [
    {
     "data": {
      "text/html": [
       "<div>\n",
       "<style scoped>\n",
       "    .dataframe tbody tr th:only-of-type {\n",
       "        vertical-align: middle;\n",
       "    }\n",
       "\n",
       "    .dataframe tbody tr th {\n",
       "        vertical-align: top;\n",
       "    }\n",
       "\n",
       "    .dataframe thead th {\n",
       "        text-align: right;\n",
       "    }\n",
       "</style>\n",
       "<table border=\"1\" class=\"dataframe\">\n",
       "  <thead>\n",
       "    <tr style=\"text-align: right;\">\n",
       "      <th></th>\n",
       "      <th>age</th>\n",
       "      <th>bmi</th>\n",
       "      <th>children</th>\n",
       "      <th>normalized_prob</th>\n",
       "    </tr>\n",
       "  </thead>\n",
       "  <tbody>\n",
       "    <tr>\n",
       "      <th>0</th>\n",
       "      <td>19</td>\n",
       "      <td>27.900</td>\n",
       "      <td>0</td>\n",
       "      <td>0.251611</td>\n",
       "    </tr>\n",
       "    <tr>\n",
       "      <th>1</th>\n",
       "      <td>18</td>\n",
       "      <td>33.770</td>\n",
       "      <td>1</td>\n",
       "      <td>0.009636</td>\n",
       "    </tr>\n",
       "    <tr>\n",
       "      <th>2</th>\n",
       "      <td>28</td>\n",
       "      <td>33.000</td>\n",
       "      <td>3</td>\n",
       "      <td>0.053115</td>\n",
       "    </tr>\n",
       "    <tr>\n",
       "      <th>3</th>\n",
       "      <td>33</td>\n",
       "      <td>22.705</td>\n",
       "      <td>0</td>\n",
       "      <td>0.333010</td>\n",
       "    </tr>\n",
       "    <tr>\n",
       "      <th>4</th>\n",
       "      <td>32</td>\n",
       "      <td>28.880</td>\n",
       "      <td>0</td>\n",
       "      <td>0.043816</td>\n",
       "    </tr>\n",
       "  </tbody>\n",
       "</table>\n",
       "</div>"
      ],
      "text/plain": [
       "   age     bmi  children  normalized_prob\n",
       "0   19  27.900         0         0.251611\n",
       "1   18  33.770         1         0.009636\n",
       "2   28  33.000         3         0.053115\n",
       "3   33  22.705         0         0.333010\n",
       "4   32  28.880         0         0.043816"
      ]
     },
     "execution_count": 3,
     "metadata": {},
     "output_type": "execute_result"
    }
   ],
   "source": [
    "data = data.drop([\"gender\", \"probability\"], axis = 1)\n",
    "data.head()"
   ]
  },
  {
   "cell_type": "code",
   "execution_count": 4,
   "id": "d7c61442",
   "metadata": {},
   "outputs": [],
   "source": [
    "dataset1 = []\n",
    "\n",
    "for i in range(100):\n",
    "    dict_x = {}\n",
    "    dict_x[\"age\"] = data.iloc[i][0]\n",
    "    dict_x[\"bmi\"] = data.iloc[i][1]\n",
    "    dict_x[\"children\"] = data.iloc[i][2]\n",
    "    \n",
    "    dataset1.append((dict_x, data.iloc[i][3]))"
   ]
  },
  {
   "cell_type": "code",
   "execution_count": 5,
   "id": "a84048a6",
   "metadata": {},
   "outputs": [
    {
     "data": {
      "text/plain": [
       "{'age': 19.0, 'bmi': 27.9, 'children': 0.0}"
      ]
     },
     "execution_count": 5,
     "metadata": {},
     "output_type": "execute_result"
    }
   ],
   "source": [
    "it1 = iter(dataset1)\n",
    "x, y = next(it1)\n",
    "x"
   ]
  },
  {
   "cell_type": "code",
   "execution_count": 6,
   "id": "4a2b9e4a",
   "metadata": {},
   "outputs": [
    {
     "data": {
      "text/plain": [
       "0.0"
      ]
     },
     "execution_count": 6,
     "metadata": {},
     "output_type": "execute_result"
    }
   ],
   "source": [
    "model = neighbors.KNNRegressor()\n",
    "model.predict_one(x)"
   ]
  },
  {
   "cell_type": "code",
   "execution_count": 7,
   "id": "ed8efee6",
   "metadata": {},
   "outputs": [],
   "source": [
    "model = model.learn_one(x, y)"
   ]
  },
  {
   "cell_type": "code",
   "execution_count": 8,
   "id": "dd65e40f",
   "metadata": {},
   "outputs": [
    {
     "data": {
      "text/plain": [
       "0.251610772"
      ]
     },
     "execution_count": 8,
     "metadata": {},
     "output_type": "execute_result"
    }
   ],
   "source": [
    "model.predict_one(x)"
   ]
  },
  {
   "cell_type": "code",
   "execution_count": 9,
   "id": "a3233c30",
   "metadata": {},
   "outputs": [
    {
     "data": {
      "text/plain": [
       "{'age': 18.0, 'bmi': 33.77, 'children': 1.0}"
      ]
     },
     "execution_count": 9,
     "metadata": {},
     "output_type": "execute_result"
    }
   ],
   "source": [
    "x, y = next(it1)\n",
    "x"
   ]
  },
  {
   "cell_type": "code",
   "execution_count": 10,
   "id": "39dfe65b",
   "metadata": {},
   "outputs": [
    {
     "data": {
      "text/plain": [
       "0.251610772"
      ]
     },
     "execution_count": 10,
     "metadata": {},
     "output_type": "execute_result"
    }
   ],
   "source": [
    "model.predict_one(x)"
   ]
  },
  {
   "cell_type": "code",
   "execution_count": 11,
   "id": "a2ca0210",
   "metadata": {},
   "outputs": [
    {
     "data": {
      "text/plain": [
       "0.00963595"
      ]
     },
     "execution_count": 11,
     "metadata": {},
     "output_type": "execute_result"
    }
   ],
   "source": [
    "model = model.learn_one(x, y)\n",
    "model.predict_one(x)"
   ]
  },
  {
   "cell_type": "code",
   "execution_count": 12,
   "id": "0e062f7f",
   "metadata": {},
   "outputs": [
    {
     "data": {
      "text/plain": [
       "{'age': 28.0, 'bmi': 33.0, 'children': 3.0}"
      ]
     },
     "execution_count": 12,
     "metadata": {},
     "output_type": "execute_result"
    }
   ],
   "source": [
    "x, y = next(it1)\n",
    "x"
   ]
  },
  {
   "cell_type": "code",
   "execution_count": 13,
   "id": "fa1836d7",
   "metadata": {},
   "outputs": [
    {
     "data": {
      "text/plain": [
       "0.130623361"
      ]
     },
     "execution_count": 13,
     "metadata": {},
     "output_type": "execute_result"
    }
   ],
   "source": [
    "model.predict_one(x)"
   ]
  },
  {
   "cell_type": "code",
   "execution_count": 14,
   "id": "683d6fd5",
   "metadata": {},
   "outputs": [
    {
     "data": {
      "text/plain": [
       "0.053115164"
      ]
     },
     "execution_count": 14,
     "metadata": {},
     "output_type": "execute_result"
    }
   ],
   "source": [
    "model = model.learn_one(x, y)\n",
    "model.predict_one(x)"
   ]
  },
  {
   "cell_type": "code",
   "execution_count": 15,
   "id": "02394c68",
   "metadata": {},
   "outputs": [],
   "source": [
    "import pickle"
   ]
  },
  {
   "cell_type": "code",
   "execution_count": 16,
   "id": "79cc6af4",
   "metadata": {},
   "outputs": [],
   "source": [
    "pickle.dump(model, open(\"model-new.pkl\", \"wb\"))"
   ]
  },
  {
   "cell_type": "code",
   "execution_count": null,
   "id": "3d27eab6",
   "metadata": {},
   "outputs": [],
   "source": []
  }
 ],
 "metadata": {
  "kernelspec": {
   "display_name": "Python 3 (ipykernel)",
   "language": "python",
   "name": "python3"
  },
  "language_info": {
   "codemirror_mode": {
    "name": "ipython",
    "version": 3
   },
   "file_extension": ".py",
   "mimetype": "text/x-python",
   "name": "python",
   "nbconvert_exporter": "python",
   "pygments_lexer": "ipython3",
   "version": "3.9.7"
  }
 },
 "nbformat": 4,
 "nbformat_minor": 5
}
